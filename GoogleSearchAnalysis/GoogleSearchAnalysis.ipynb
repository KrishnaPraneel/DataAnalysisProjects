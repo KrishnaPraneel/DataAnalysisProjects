{
 "cells": [
  {
   "cell_type": "code",
   "execution_count": 1,
   "id": "4035715c-ea89-4e3d-b9f0-656a4e71aeec",
   "metadata": {},
   "outputs": [
    {
     "name": "stdout",
     "output_type": "stream",
     "text": [
      "Collecting pytrends\n",
      "  Downloading pytrends-4.9.2-py3-none-any.whl.metadata (13 kB)\n",
      "Requirement already satisfied: requests>=2.0 in ./anaconda3/lib/python3.11/site-packages (from pytrends) (2.32.3)\n",
      "Requirement already satisfied: pandas>=0.25 in ./anaconda3/lib/python3.11/site-packages (from pytrends) (2.2.2)\n",
      "Requirement already satisfied: lxml in ./anaconda3/lib/python3.11/site-packages (from pytrends) (5.2.1)\n",
      "Requirement already satisfied: numpy>=1.23.2 in ./anaconda3/lib/python3.11/site-packages (from pandas>=0.25->pytrends) (1.26.4)\n",
      "Requirement already satisfied: python-dateutil>=2.8.2 in ./anaconda3/lib/python3.11/site-packages (from pandas>=0.25->pytrends) (2.9.0.post0)\n",
      "Requirement already satisfied: pytz>=2020.1 in ./anaconda3/lib/python3.11/site-packages (from pandas>=0.25->pytrends) (2024.1)\n",
      "Requirement already satisfied: tzdata>=2022.7 in ./anaconda3/lib/python3.11/site-packages (from pandas>=0.25->pytrends) (2023.3)\n",
      "Requirement already satisfied: charset-normalizer<4,>=2 in ./anaconda3/lib/python3.11/site-packages (from requests>=2.0->pytrends) (3.3.2)\n",
      "Requirement already satisfied: idna<4,>=2.5 in ./anaconda3/lib/python3.11/site-packages (from requests>=2.0->pytrends) (2.10)\n",
      "Requirement already satisfied: urllib3<3,>=1.21.1 in ./anaconda3/lib/python3.11/site-packages (from requests>=2.0->pytrends) (1.26.19)\n",
      "Requirement already satisfied: certifi>=2017.4.17 in ./anaconda3/lib/python3.11/site-packages (from requests>=2.0->pytrends) (2024.7.4)\n",
      "Requirement already satisfied: six>=1.5 in ./anaconda3/lib/python3.11/site-packages (from python-dateutil>=2.8.2->pandas>=0.25->pytrends) (1.16.0)\n",
      "Downloading pytrends-4.9.2-py3-none-any.whl (15 kB)\n",
      "Installing collected packages: pytrends\n",
      "Successfully installed pytrends-4.9.2\n"
     ]
    }
   ],
   "source": [
    "!pip install pytrends"
   ]
  },
  {
   "cell_type": "code",
   "execution_count": 3,
   "id": "7fc89cd0-8fe1-4552-ad7a-088e361690e6",
   "metadata": {},
   "outputs": [],
   "source": [
    "import pandas as pd \n",
    "from pytrends.request import TrendReq \n",
    "import matplotlib.pyplot as plt \n",
    "Trending_topics = TrendReq(hl='en-US', tz=360)"
   ]
  },
  {
   "cell_type": "code",
   "execution_count": 5,
   "id": "a5c45659-c4a7-4f43-a3ad-ce3377f6f4ed",
   "metadata": {},
   "outputs": [],
   "source": [
    "kw_list=[\"Cloud Computing\"] \n",
    "Trending_topics.build_payload(kw_list,cat=0, timeframe='today 12-m')"
   ]
  },
  {
   "cell_type": "code",
   "execution_count": 7,
   "id": "65647e34-db94-431e-844b-0c2ca7947a6a",
   "metadata": {},
   "outputs": [
    {
     "name": "stdout",
     "output_type": "stream",
     "text": [
      "            Cloud Computing  isPartial\n",
      "date                                  \n",
      "2023-12-03              100      False\n",
      "2023-12-10               93      False\n",
      "2023-11-26               86      False\n",
      "2023-11-19               84      False\n",
      "2024-01-28               84      False\n",
      "2023-10-08               84      False\n",
      "2023-11-05               83      False\n",
      "2024-01-21               83      False\n",
      "2023-12-17               83      False\n",
      "2024-02-25               83      False\n"
     ]
    },
    {
     "name": "stderr",
     "output_type": "stream",
     "text": [
      "/Users/krishnapeddibhotla/anaconda3/lib/python3.11/site-packages/pytrends/request.py:260: FutureWarning: Downcasting object dtype arrays on .fillna, .ffill, .bfill is deprecated and will change in a future version. Call result.infer_objects(copy=False) instead. To opt-in to the future behavior, set `pd.set_option('future.no_silent_downcasting', True)`\n",
      "  df = df.fillna(False)\n"
     ]
    }
   ],
   "source": [
    "Trending_topics.build_payload(kw_list=[\"Cloud Computing\"], \n",
    "\t\t\t\t\t\t\tcat=0, timeframe='today 12-m') \n",
    "data = Trending_topics.interest_over_time() \n",
    "data = data.sort_values(by=\"Cloud Computing\", ascending = False) \n",
    "data = data.head(10) \n",
    "print(data)"
   ]
  },
  {
   "cell_type": "code",
   "execution_count": 17,
   "id": "80c2a45a-eb71-405b-bd6c-2bb3fdfe872b",
   "metadata": {},
   "outputs": [
    {
     "name": "stdout",
     "output_type": "stream",
     "text": [
      "            Cloud Computing  isPartial\n",
      "date                                  \n",
      "2018-01-30              100      False\n",
      "2018-01-18               98      False\n",
      "2018-02-01               96      False\n",
      "2018-01-08               94      False\n",
      "2018-01-24               92      False\n",
      "2018-01-10               92      False\n",
      "2018-01-04               91      False\n",
      "2018-01-11               91      False\n",
      "2018-01-09               90      False\n",
      "2018-01-22               90      False\n"
     ]
    }
   ],
   "source": [
    "from pytrends.request import TrendReq\n",
    "import pandas as pd\n",
    "\n",
    "# Set up a connection to Google Trends\n",
    "pytrends = TrendReq(hl='en-US', tz=360)\n",
    "\n",
    "# Define the keyword list\n",
    "kw_list = [\"Cloud Computing\"]\n",
    "\n",
    "# Build the payload\n",
    "pytrends.build_payload(kw_list, cat=0, timeframe='2018-01-01 2018-02-01', geo='', gprop='')\n",
    "\n",
    "# Get interest over time data\n",
    "data = pytrends.interest_over_time()\n",
    "\n",
    "# Check if there are any results\n",
    "if not data.empty:\n",
    "    # Sort the data based on interest in \"Cloud Computing\"\n",
    "    data = data.sort_values(by=\"Cloud Computing\", ascending=False)\n",
    "\n",
    "    # Get the top 10 entries\n",
    "    data = data.head(10)\n",
    "\n",
    "    # Print the data\n",
    "    print(data)\n",
    "else:\n",
    "    print(\"No data available for the given time frame.\")"
   ]
  },
  {
   "cell_type": "code",
   "execution_count": 19,
   "id": "8bd1176b-25d9-4da2-a4b7-9a194aa9cd21",
   "metadata": {},
   "outputs": [
    {
     "name": "stdout",
     "output_type": "stream",
     "text": [
      "           Cloud Computing\n",
      "geoName                   \n",
      "Ethiopia               100\n",
      "Zimbabwe                89\n",
      "India                   67\n",
      "Nepal                   65\n",
      "Cameroon                60\n",
      "Kenya                   50\n",
      "Sri Lanka               48\n",
      "Ghana                   39\n",
      "Pakistan                37\n",
      "Nigeria                 36\n"
     ]
    }
   ],
   "source": [
    "data = Trending_topics.interest_by_region() \n",
    "data = data.sort_values(by=\"Cloud Computing\", \n",
    "\t\t\t\t\t\tascending = False) \n",
    "data = data.head(10) \n",
    "print(data)"
   ]
  },
  {
   "cell_type": "code",
   "execution_count": 21,
   "id": "df5baf40-2cbb-434b-a3cf-102f5eb35d1b",
   "metadata": {},
   "outputs": [
    {
     "data": {
      "image/png": "[encoded data removed]",
      "text/plain": [
       "<Figure size 1000x500 with 1 Axes>"
      ]
     },
     "metadata": {},
     "output_type": "display_data"
    }
   ],
   "source": [
    "data.reset_index().plot(x='geoName', y='Cloud Computing', \n",
    "\t\t\t\t\t\tfigsize=(10,5), kind=\"bar\") \n",
    "plt.style.use('fivethirtyeight') \n",
    "plt.show()"
   ]
  },
  {
   "cell_type": "code",
   "execution_count": 23,
   "id": "9333ce69-7402-4cd3-8d42-6ddee6c2f291",
   "metadata": {},
   "outputs": [
    {
     "data": {
      "text/html": [
       "<div>\n",
       "<style scoped>\n",
       "    .dataframe tbody tr th:only-of-type {\n",
       "        vertical-align: middle;\n",
       "    }\n",
       "\n",
       "    .dataframe tbody tr th {\n",
       "        vertical-align: top;\n",
       "    }\n",
       "\n",
       "    .dataframe thead th {\n",
       "        text-align: right;\n",
       "    }\n",
       "</style>\n",
       "<table border=\"1\" class=\"dataframe\">\n",
       "  <thead>\n",
       "    <tr style=\"text-align: right;\">\n",
       "      <th></th>\n",
       "      <th>title</th>\n",
       "      <th>exploreQuery</th>\n",
       "    </tr>\n",
       "  </thead>\n",
       "  <tbody>\n",
       "    <tr>\n",
       "      <th>0</th>\n",
       "      <td>Coronavirus</td>\n",
       "      <td></td>\n",
       "    </tr>\n",
       "    <tr>\n",
       "      <th>1</th>\n",
       "      <td>Election results</td>\n",
       "      <td></td>\n",
       "    </tr>\n",
       "    <tr>\n",
       "      <th>2</th>\n",
       "      <td>Kobe Bryant</td>\n",
       "      <td></td>\n",
       "    </tr>\n",
       "    <tr>\n",
       "      <th>3</th>\n",
       "      <td>Zoom</td>\n",
       "      <td></td>\n",
       "    </tr>\n",
       "    <tr>\n",
       "      <th>4</th>\n",
       "      <td>IPL</td>\n",
       "      <td></td>\n",
       "    </tr>\n",
       "    <tr>\n",
       "      <th>5</th>\n",
       "      <td>India vs New Zealand</td>\n",
       "      <td></td>\n",
       "    </tr>\n",
       "    <tr>\n",
       "      <th>6</th>\n",
       "      <td>Coronavirus update</td>\n",
       "      <td></td>\n",
       "    </tr>\n",
       "    <tr>\n",
       "      <th>7</th>\n",
       "      <td>Coronavirus symptoms</td>\n",
       "      <td></td>\n",
       "    </tr>\n",
       "    <tr>\n",
       "      <th>8</th>\n",
       "      <td>Joe Biden</td>\n",
       "      <td></td>\n",
       "    </tr>\n",
       "    <tr>\n",
       "      <th>9</th>\n",
       "      <td>Google Classroom</td>\n",
       "      <td></td>\n",
       "    </tr>\n",
       "  </tbody>\n",
       "</table>\n",
       "</div>"
      ],
      "text/plain": [
       "                  title exploreQuery\n",
       "0           Coronavirus             \n",
       "1      Election results             \n",
       "2           Kobe Bryant             \n",
       "3                  Zoom             \n",
       "4                   IPL             \n",
       "5  India vs New Zealand             \n",
       "6    Coronavirus update             \n",
       "7  Coronavirus symptoms             \n",
       "8             Joe Biden             \n",
       "9      Google Classroom             "
      ]
     },
     "execution_count": 23,
     "metadata": {},
     "output_type": "execute_result"
    }
   ],
   "source": [
    "df = Trending_topics.top_charts(2020, hl='en-US', \n",
    "\t\t\t\t\t\t\t\ttz=300, geo='GLOBAL') \n",
    "df.head(10)"
   ]
  },
  {
   "cell_type": "code",
   "execution_count": 33,
   "id": "afd422de-9ac7-4d4d-8fa7-fdb53d3b1f3d",
   "metadata": {},
   "outputs": [
    {
     "ename": "IndexError",
     "evalue": "list index out of range",
     "output_type": "error",
     "traceback": [
      "\u001b[0;31m---------------------------------------------------------------------------\u001b[0m",
      "\u001b[0;31mIndexError\u001b[0m                                Traceback (most recent call last)",
      "Cell \u001b[0;32mIn[33], line 13\u001b[0m\n\u001b[1;32m     10\u001b[0m pytrends\u001b[38;5;241m.\u001b[39mbuild_payload(kw_list)\n\u001b[1;32m     12\u001b[0m \u001b[38;5;66;03m# Get related queries\u001b[39;00m\n\u001b[0;32m---> 13\u001b[0m related_queries \u001b[38;5;241m=\u001b[39m pytrends\u001b[38;5;241m.\u001b[39mrelated_queries()\n\u001b[1;32m     15\u001b[0m \u001b[38;5;66;03m# Safely extract and print the related queries for the keyword\u001b[39;00m\n\u001b[1;32m     16\u001b[0m \u001b[38;5;28;01mfor\u001b[39;00m kw \u001b[38;5;129;01min\u001b[39;00m kw_list:\n",
      "File \u001b[0;32m~/anaconda3/lib/python3.11/site-packages/pytrends/request.py:450\u001b[0m, in \u001b[0;36mTrendReq.related_queries\u001b[0;34m(self)\u001b[0m\n\u001b[1;32m    447\u001b[0m \u001b[38;5;66;03m# top queries\u001b[39;00m\n\u001b[1;32m    448\u001b[0m \u001b[38;5;28;01mtry\u001b[39;00m:\n\u001b[1;32m    449\u001b[0m     top_df \u001b[38;5;241m=\u001b[39m pd\u001b[38;5;241m.\u001b[39mDataFrame(\n\u001b[0;32m--> 450\u001b[0m         req_json[\u001b[38;5;124m'\u001b[39m\u001b[38;5;124mdefault\u001b[39m\u001b[38;5;124m'\u001b[39m][\u001b[38;5;124m'\u001b[39m\u001b[38;5;124mrankedList\u001b[39m\u001b[38;5;124m'\u001b[39m][\u001b[38;5;241m0\u001b[39m][\u001b[38;5;124m'\u001b[39m\u001b[38;5;124mrankedKeyword\u001b[39m\u001b[38;5;124m'\u001b[39m])\n\u001b[1;32m    451\u001b[0m     top_df \u001b[38;5;241m=\u001b[39m top_df[[\u001b[38;5;124m'\u001b[39m\u001b[38;5;124mquery\u001b[39m\u001b[38;5;124m'\u001b[39m, \u001b[38;5;124m'\u001b[39m\u001b[38;5;124mvalue\u001b[39m\u001b[38;5;124m'\u001b[39m]]\n\u001b[1;32m    452\u001b[0m \u001b[38;5;28;01mexcept\u001b[39;00m \u001b[38;5;167;01mKeyError\u001b[39;00m:\n\u001b[1;32m    453\u001b[0m     \u001b[38;5;66;03m# in case no top queries are found, the lines above will throw a KeyError\u001b[39;00m\n",
      "\u001b[0;31mIndexError\u001b[0m: list index out of range"
     ]
    }
   ],
   "source": [
    "from pytrends.request import TrendReq\n",
    "\n",
    "# Initialize the pytrends request object\n",
    "pytrends = TrendReq(hl='en-US', tz=360)\n",
    "\n",
    "# Define the keyword list\n",
    "kw_list = ['Cloud Computing']\n",
    "\n",
    "# Build the payload for the keyword\n",
    "pytrends.build_payload(kw_list)\n",
    "\n",
    "# Get related queries\n",
    "related_queries = pytrends.related_queries()\n",
    "\n",
    "# Safely extract and print the related queries for the keyword\n",
    "for kw in kw_list:\n",
    "    if kw in related_queries:\n",
    "        print(f\"Related queries for {kw}:\")\n",
    "        top_queries = related_queries[kw].get('top')\n",
    "        rising_queries = related_queries[kw].get('rising')\n",
    "        \n",
    "        if top_queries is not None:\n",
    "            print(\"Top queries:\")\n",
    "            print(top_queries)\n",
    "        else:\n",
    "            print(\"No top queries available.\")\n",
    "        \n",
    "        if rising_queries is not None:\n",
    "            print(\"Rising queries:\")\n",
    "            print(rising_queries)\n",
    "        else:\n",
    "            print(\"No rising queries available.\")\n",
    "    else:\n",
    "        print(f\"No related queries found for {kw}.\")"
   ]
  },
  {
   "cell_type": "code",
   "execution_count": null,
   "id": "b6b36500-c27b-443f-a125-86dcbaf415fb",
   "metadata": {},
   "outputs": [],
   "source": []
  }
 ],
 "metadata": {
  "kernelspec": {
   "display_name": "Python 3 (ipykernel)",
   "language": "python",
   "name": "python3"
  },
  "language_info": {
   "codemirror_mode": {
    "name": "ipython",
    "version": 3
   },
   "file_extension": ".py",
   "mimetype": "text/x-python",
   "name": "python",
   "nbconvert_exporter": "python",
   "pygments_lexer": "ipython3",
   "version": "3.11.9"
  }
 },
 "nbformat": 4,
 "nbformat_minor": 5
}
